{
 "cells": [
  {
   "cell_type": "code",
   "execution_count": 1,
   "id": "c526519b-70e0-4751-8bae-b93738213518",
   "metadata": {},
   "outputs": [],
   "source": [
    "import torch\n",
    "from torch import nn\n",
    "from torch.utils.data import DataLoader, Dataset, random_split\n",
    "import mne\n",
    "import os\n",
    "import numpy as np\n",
    "from sklearn.metrics import confusion_matrix, classification_report\n",
    "from sklearn.model_selection import train_test_split\n",
    "import matplotlib.pyplot as plt\n",
    "import seaborn as sns"
   ]
  },
  {
   "cell_type": "code",
   "execution_count": 2,
   "id": "a2693853-0b36-4ce8-94b4-f47461746742",
   "metadata": {},
   "outputs": [],
   "source": [
    "if torch.cuda.is_available():\n",
    "    dev = \"cuda:0\"\n",
    "else:\n",
    "    dev = \"cpu\"\n",
    "device = torch.device(dev)"
   ]
  },
  {
   "cell_type": "code",
   "execution_count": 45,
   "id": "e9f76f43-b4d4-404e-a96f-49526df94561",
   "metadata": {},
   "outputs": [],
   "source": [
    "class EEGDataset(Dataset):\n",
    "    def __init__(self, data_dir, get_annotation, data_extension='edf', filter=None, target_filter=None, drop_channels=None):\n",
    "        self.data_dir = data_dir\n",
    "        self.get_annotation = get_annotation\n",
    "        all_dir_files = os.listdir(data_dir)\n",
    "        self.data_files_path = [file for file in all_dir_files if file.endswith(f'.{data_extension}')]\n",
    "        self.filter = filter\n",
    "        self.target_filter = target_filter\n",
    "        self.drop_channels = drop_channels\n",
    "\n",
    "    def __len__(self):\n",
    "        return len(self.data_files_path)\n",
    "\n",
    "    def __getitem__(self, idx):\n",
    "        file_path = f'{self.data_dir}\\\\{self.data_files_path[idx]}'\n",
    "        eeg = mne.io.read_raw_edf(file_path, preload=True, verbose=False)\n",
    "        if self.drop_channels:\n",
    "            eeg.drop_channels(self.drop_channels)\n",
    "        label = get_annotation(file_path)\n",
    "        if self.filter:\n",
    "            eeg = self.filter(eeg)\n",
    "        if self.target_filter:\n",
    "            label = self.target_filter(label)\n",
    "        if isinstance(eeg, mne.io.edf.edf.RawEDF):\n",
    "            eeg = eeg.get_data()\n",
    "        elif not isinstance(eeg, np.ndarray):\n",
    "            eeg = np.array(eeg)\n",
    "        eeg = eeg.astype(np.float32)\n",
    "        label = np.int64(label)\n",
    "        return eeg, label\n",
    "\n",
    "\n",
    "def get_annotation(eeg_path: str, data_extension: str = 'edf') -> int:\n",
    "    if eeg_path.endswith(f'_1.{data_extension}'):\n",
    "        return 0\n",
    "    elif eeg_path.endswith(f'_2.{data_extension}'):\n",
    "        return 1\n",
    "    raise Exception('Неизвестный формат файла')\n",
    "\n",
    "def filter_data_func(*filters):\n",
    "    def _filter_data(data):\n",
    "        for filt in filters:\n",
    "            data = filt(data)\n",
    "        return data\n",
    "    return _filter_data\n",
    "\n",
    "def crop_eeg_func(size):\n",
    "    def _crop(data):\n",
    "        return data.crop(tmax=size, include_tmax=False)\n",
    "    return _crop\n",
    "\n",
    "def freq_mean_func(freqs):\n",
    "    def _freq_mean(data):\n",
    "        data_freqs = []  # По-хорошему словарь сюда бы\n",
    "        for freq_l, freq_r in freqs:\n",
    "            copy_data = data.copy()\n",
    "            copy_data.filter(freq_l,\n",
    "                             freq_r,\n",
    "                             n_jobs=None,  # use more jobs to speed up.\n",
    "                             l_trans_bandwidth=1,  # make sure filter params are the same\n",
    "                             h_trans_bandwidth=1,\n",
    "                             verbose=False)\n",
    "            data_freqs.append(copy_data.get_data().mean(axis=1))\n",
    "        return np.array(data_freqs)\n",
    "    return _freq_mean\n",
    "\n",
    "def normalize(data):\n",
    "    mean = data.mean()\n",
    "    std = data.std()\n",
    "    return (data-mean)/std\n",
    "\n",
    "def normalize_minmax(data):\n",
    "    min = data.min()\n",
    "    max = data.max()\n",
    "    \n",
    "    return (data-min)/(max-min)"
   ]
  },
  {
   "cell_type": "code",
   "execution_count": 3,
   "id": "2b422085-cd55-49c1-8b4b-56be8bf0bd04",
   "metadata": {},
   "outputs": [],
   "source": [
    "class StressRecognitionNetwork(nn.Module):\n",
    "    def __init__(self, input_size):\n",
    "        super().__init__()\n",
    "        self.flatten = nn.Flatten(1)\n",
    "        self.linear_relu_stack = nn.Sequential(\n",
    "            nn.Linear(input_size, 256),\n",
    "            nn.ReLU(),\n",
    "            nn.Linear(256, 128),\n",
    "            nn.ReLU(),\n",
    "            nn.Linear(128, 64),\n",
    "            nn.ReLU(),\n",
    "            nn.Linear(64, 16),\n",
    "            nn.ReLU(),\n",
    "            nn.Linear(16, 2),\n",
    "        )\n",
    "\n",
    "    def forward(self, x):\n",
    "        # x = self.flatten(x)\n",
    "        logits = self.linear_relu_stack(x)\n",
    "        return logits\n",
    "\n",
    "# model = Sequential([\n",
    "#     Input(shape=(X_train.shape[1],)),\n",
    "#     Dense(256, activation='relu'),\n",
    "#     Dropout(0.5),\n",
    "#     Dense(128, activation='relu'),\n",
    "#     Dropout(0.5),\n",
    "#     Dense(2, activation='softmax')\n",
    "# ])"
   ]
  },
  {
   "cell_type": "code",
   "execution_count": null,
   "id": "e07541a0-6019-422e-a617-a1c0eb3a816c",
   "metadata": {},
   "outputs": [],
   "source": []
  },
  {
   "cell_type": "code",
   "execution_count": 5,
   "id": "87eae761-6f1c-4917-af1a-e24462f8d49f",
   "metadata": {},
   "outputs": [],
   "source": []
  },
  {
   "cell_type": "code",
   "execution_count": null,
   "id": "ebfc8dbb-93cf-4b81-a448-2f6e4e94c380",
   "metadata": {},
   "outputs": [],
   "source": []
  },
  {
   "cell_type": "code",
   "execution_count": 4,
   "id": "7f5d1179-c5a5-4527-a3dc-bbace7fbb22b",
   "metadata": {},
   "outputs": [],
   "source": [
    "def train_loop(dataloader, model, loss_fn, optimizer):\n",
    "    size = len(dataloader.dataset)\n",
    "    # Set the model to training mode - important for batch normalization and dropout layers\n",
    "    model.train()\n",
    "    for batch, (X, y) in enumerate(dataloader):\n",
    "        optimizer.zero_grad()\n",
    "        pred = model(X.to(device))\n",
    "        # print(pred)\n",
    "        # print(y)\n",
    "        loss = loss_fn(pred, y.to(device))\n",
    "\n",
    "        loss.backward()\n",
    "        optimizer.step()\n",
    "\n",
    "        if batch % 5 == 0:\n",
    "            loss = loss.item()\n",
    "            current = batch * batch_size + len(X)\n",
    "            print(f\"loss: {loss:>7f}  [{current:>5d}/{size:>5d}]\")\n",
    "\n",
    "\n",
    "\n",
    "def test_loop(dataloader, model, loss_fn):\n",
    "    # Set the model to evaluation mode - important for batch normalization and dropout layers\n",
    "    model.eval()\n",
    "    size = len(dataloader.dataset)\n",
    "    num_batches = len(dataloader)\n",
    "    test_loss, accuracy = 0, 0\n",
    "\n",
    "    # Evaluating the model with torch.no_grad() ensures that no gradients are computed during test mode\n",
    "    # also serves to reduce unnecessary gradient computations and memory usage for tensors with requires_grad=True\n",
    "    with torch.no_grad():\n",
    "        for X, y in dataloader:\n",
    "            pred = model(X.to(device))\n",
    "            test_loss += loss_fn(pred, y.to(device)).item()\n",
    "            # print((pred.detach().cpu().argmax() == y).type(torch.float).sum().item())\n",
    "            accuracy += (pred.detach().cpu().argmax(dim=1) == y).type(torch.float).sum().item()\n",
    "            # print(f'{pred=}')\n",
    "            # print(f'{y.data=}')\n",
    "            \n",
    "    # test_loss /= num_batches\n",
    "    test_loss /= size\n",
    "    accuracy /= size\n",
    "    print(f\"Test Error: \\n Accuracy: {(100*accuracy):>0.1f}%, Avg loss: {test_loss:>8f} \\n\")\n",
    "    return test_loss, accuracy"
   ]
  },
  {
   "cell_type": "code",
   "execution_count": 78,
   "id": "2acb30f5-1e42-4686-a35e-204ef83536ae",
   "metadata": {},
   "outputs": [],
   "source": [
    "learning_rate = 1e-3\n",
    "batch_size = 32\n",
    "epochs = 100\n",
    "best_model_path = 'best-model-parameters.pt'"
   ]
  },
  {
   "cell_type": "code",
   "execution_count": 73,
   "id": "92888c85-b4fd-4f11-b05a-e2eaaa604679",
   "metadata": {},
   "outputs": [],
   "source": [
    "# with open(r\"C:\\Перенос\\Доки\\Мага брат\\Методология научных исследований\\ВКР\\Отфильтрованные записи\\Признаки\\features_01.npy\", mode='rb') as f:\n",
    "#     features = np.load(f)\n",
    "with open(r\"C:\\Перенос\\Доки\\Мага брат\\Методология научных исследований\\ВКР\\Отфильтрованные записи\\Признаки\\features_02.npy\", mode='rb') as f:\n",
    "    features = np.load(f)"
   ]
  },
  {
   "cell_type": "code",
   "execution_count": 37,
   "id": "21588029-d394-4c60-883c-b787971a0feb",
   "metadata": {},
   "outputs": [],
   "source": [
    "# features[:, 1:] = normalize(features[:, 1:])"
   ]
  },
  {
   "cell_type": "code",
   "execution_count": 50,
   "id": "074d7919-54a9-4ca8-b739-ae0058d5fda7",
   "metadata": {},
   "outputs": [],
   "source": [
    "# features[:, 1:] = normalize_minmax(features[:, 1:])"
   ]
  },
  {
   "cell_type": "code",
   "execution_count": 97,
   "id": "3d102a14-afcf-46f9-918c-984cf119ed82",
   "metadata": {},
   "outputs": [],
   "source": [
    "X_train, X_test, y_train, y_test = train_test_split(features[:, 1:], features[:, 0], test_size=0.5, random_state=100)"
   ]
  },
  {
   "cell_type": "code",
   "execution_count": 144,
   "id": "0ba86de0-4f7e-42ed-ba74-56f489afbb29",
   "metadata": {},
   "outputs": [],
   "source": [
    "# X_test, y_test, X_valid, y_valid = X_test[:100], y_test[:100], X_test[100:], y_test[100:]"
   ]
  },
  {
   "cell_type": "code",
   "execution_count": 98,
   "id": "8f7ed9e0-47e2-4ec5-a024-d2445711a3b2",
   "metadata": {},
   "outputs": [],
   "source": [
    "train = torch.tensor(X_train.astype(np.float32))\n",
    "train_target = torch.tensor(y_train, dtype=torch.long)\n",
    "train_dataset = torch.utils.data.TensorDataset(train, train_target)\n",
    "train_loader = torch.utils.data.DataLoader(dataset=train_dataset,\n",
    "                                           batch_size=batch_size,\n",
    "                                           shuffle=True)\n",
    "\n",
    "test = torch.tensor(X_test.astype(np.float32))\n",
    "test_target = torch.tensor(y_test, dtype=torch.long)\n",
    "test_dataset = torch.utils.data.TensorDataset(test, test_target)\n",
    "test_loader = torch.utils.data.DataLoader(dataset=test_dataset,\n",
    "                                          batch_size=batch_size,\n",
    "                                          shuffle=False)"
   ]
  },
  {
   "cell_type": "code",
   "execution_count": 99,
   "id": "719ae1a6-e7df-4b2c-8168-45cc0b1b9543",
   "metadata": {},
   "outputs": [
    {
     "data": {
      "text/plain": [
       "StressRecognitionNetwork(\n",
       "  (flatten): Flatten(start_dim=1, end_dim=-1)\n",
       "  (linear_relu_stack): Sequential(\n",
       "    (0): Linear(in_features=352, out_features=256, bias=True)\n",
       "    (1): ReLU()\n",
       "    (2): Linear(in_features=256, out_features=128, bias=True)\n",
       "    (3): ReLU()\n",
       "    (4): Linear(in_features=128, out_features=64, bias=True)\n",
       "    (5): ReLU()\n",
       "    (6): Linear(in_features=64, out_features=16, bias=True)\n",
       "    (7): ReLU()\n",
       "    (8): Linear(in_features=16, out_features=2, bias=True)\n",
       "  )\n",
       ")"
      ]
     },
     "execution_count": 99,
     "metadata": {},
     "output_type": "execute_result"
    }
   ],
   "source": [
    "input_size = X_train.shape[1]\n",
    "stress_nn = StressRecognitionNetwork(input_size)\n",
    "stress_nn.to(device)"
   ]
  },
  {
   "cell_type": "code",
   "execution_count": 100,
   "id": "5cb69c4a-00b1-4898-8139-35ae71645443",
   "metadata": {
    "scrolled": true
   },
   "outputs": [
    {
     "name": "stdout",
     "output_type": "stream",
     "text": [
      "Epoch 1\n",
      "-------------------------------\n",
      "loss: 1.312490  [   32/  167]\n",
      "loss: 1.265317  [  167/  167]\n",
      "Test Error: \n",
      " Accuracy: 60.5%, Avg loss: 0.029201 \n",
      "\n",
      "Epoch 2\n",
      "-------------------------------\n",
      "loss: 1.176088  [   32/  167]\n",
      "loss: 0.849218  [  167/  167]\n",
      "Test Error: \n",
      " Accuracy: 66.5%, Avg loss: 0.022968 \n",
      "\n",
      "Epoch 3\n",
      "-------------------------------\n",
      "loss: 0.733409  [   32/  167]\n",
      "loss: 0.692807  [  167/  167]\n",
      "Test Error: \n",
      " Accuracy: 67.7%, Avg loss: 0.027293 \n",
      "\n",
      "Epoch 4\n",
      "-------------------------------\n",
      "loss: 0.595097  [   32/  167]\n",
      "loss: 0.481742  [  167/  167]\n",
      "Test Error: \n",
      " Accuracy: 74.3%, Avg loss: 0.016698 \n",
      "\n",
      "Epoch 5\n",
      "-------------------------------\n",
      "loss: 0.406567  [   32/  167]\n",
      "loss: 0.135473  [  167/  167]\n",
      "Test Error: \n",
      " Accuracy: 75.4%, Avg loss: 0.016179 \n",
      "\n",
      "Epoch 6\n",
      "-------------------------------\n",
      "loss: 0.320618  [   32/  167]\n",
      "loss: 0.544026  [  167/  167]\n",
      "Test Error: \n",
      " Accuracy: 77.2%, Avg loss: 0.021085 \n",
      "\n",
      "Epoch 7\n",
      "-------------------------------\n",
      "loss: 0.450827  [   32/  167]\n",
      "loss: 0.456232  [  167/  167]\n",
      "Test Error: \n",
      " Accuracy: 77.2%, Avg loss: 0.014778 \n",
      "\n",
      "Epoch 8\n",
      "-------------------------------\n",
      "loss: 0.284549  [   32/  167]\n",
      "loss: 0.388851  [  167/  167]\n",
      "Test Error: \n",
      " Accuracy: 77.2%, Avg loss: 0.019973 \n",
      "\n",
      "Epoch 9\n",
      "-------------------------------\n",
      "loss: 0.433778  [   32/  167]\n",
      "loss: 0.235593  [  167/  167]\n",
      "Test Error: \n",
      " Accuracy: 79.6%, Avg loss: 0.014076 \n",
      "\n",
      "Epoch 10\n",
      "-------------------------------\n",
      "loss: 0.360206  [   32/  167]\n",
      "loss: 0.269522  [  167/  167]\n",
      "Test Error: \n",
      " Accuracy: 79.0%, Avg loss: 0.016257 \n",
      "\n",
      "Epoch 11\n",
      "-------------------------------\n",
      "loss: 0.460032  [   32/  167]\n",
      "loss: 0.309766  [  167/  167]\n",
      "Test Error: \n",
      " Accuracy: 78.4%, Avg loss: 0.014427 \n",
      "\n",
      "Epoch 12\n",
      "-------------------------------\n",
      "loss: 0.297521  [   32/  167]\n",
      "loss: 0.213670  [  167/  167]\n",
      "Test Error: \n",
      " Accuracy: 81.4%, Avg loss: 0.015277 \n",
      "\n",
      "Epoch 13\n",
      "-------------------------------\n",
      "loss: 0.238194  [   32/  167]\n",
      "loss: 0.071532  [  167/  167]\n",
      "Test Error: \n",
      " Accuracy: 82.0%, Avg loss: 0.014640 \n",
      "\n",
      "Epoch 14\n",
      "-------------------------------\n",
      "loss: 0.404211  [   32/  167]\n",
      "loss: 0.456661  [  167/  167]\n",
      "Test Error: \n",
      " Accuracy: 83.8%, Avg loss: 0.015602 \n",
      "\n",
      "Epoch 15\n",
      "-------------------------------\n",
      "loss: 0.300215  [   32/  167]\n",
      "loss: 0.359596  [  167/  167]\n",
      "Test Error: \n",
      " Accuracy: 77.2%, Avg loss: 0.026164 \n",
      "\n",
      "Epoch 16\n",
      "-------------------------------\n",
      "loss: 0.580372  [   32/  167]\n",
      "loss: 0.342368  [  167/  167]\n",
      "Test Error: \n",
      " Accuracy: 76.0%, Avg loss: 0.034387 \n",
      "\n",
      "Epoch 17\n",
      "-------------------------------\n",
      "loss: 0.429700  [   32/  167]\n",
      "loss: 0.108924  [  167/  167]\n",
      "Test Error: \n",
      " Accuracy: 84.4%, Avg loss: 0.018867 \n",
      "\n",
      "Epoch 18\n",
      "-------------------------------\n",
      "loss: 0.235531  [   32/  167]\n",
      "loss: 0.048231  [  167/  167]\n",
      "Test Error: \n",
      " Accuracy: 74.3%, Avg loss: 0.033521 \n",
      "\n",
      "Epoch 19\n",
      "-------------------------------\n",
      "loss: 0.179676  [   32/  167]\n",
      "loss: 0.190231  [  167/  167]\n",
      "Test Error: \n",
      " Accuracy: 86.8%, Avg loss: 0.019885 \n",
      "\n",
      "Epoch 20\n",
      "-------------------------------\n",
      "loss: 0.225600  [   32/  167]\n",
      "loss: 0.004137  [  167/  167]\n",
      "Test Error: \n",
      " Accuracy: 77.8%, Avg loss: 0.028364 \n",
      "\n",
      "Epoch 21\n",
      "-------------------------------\n",
      "loss: 0.116425  [   32/  167]\n",
      "loss: 0.198823  [  167/  167]\n",
      "Test Error: \n",
      " Accuracy: 84.4%, Avg loss: 0.019833 \n",
      "\n",
      "Epoch 22\n",
      "-------------------------------\n",
      "loss: 0.201980  [   32/  167]\n",
      "loss: 0.098506  [  167/  167]\n",
      "Test Error: \n",
      " Accuracy: 81.4%, Avg loss: 0.020935 \n",
      "\n",
      "Epoch 23\n",
      "-------------------------------\n",
      "loss: 0.102577  [   32/  167]\n",
      "loss: 0.140774  [  167/  167]\n",
      "Test Error: \n",
      " Accuracy: 85.6%, Avg loss: 0.018580 \n",
      "\n",
      "Epoch 24\n",
      "-------------------------------\n",
      "loss: 0.093631  [   32/  167]\n",
      "loss: 0.121108  [  167/  167]\n",
      "Test Error: \n",
      " Accuracy: 86.2%, Avg loss: 0.020146 \n",
      "\n",
      "Epoch 25\n",
      "-------------------------------\n",
      "loss: 0.155694  [   32/  167]\n",
      "loss: 0.108470  [  167/  167]\n",
      "Test Error: \n",
      " Accuracy: 86.2%, Avg loss: 0.019551 \n",
      "\n",
      "Epoch 26\n",
      "-------------------------------\n",
      "loss: 0.116760  [   32/  167]\n",
      "loss: 0.187312  [  167/  167]\n",
      "Test Error: \n",
      " Accuracy: 89.2%, Avg loss: 0.019359 \n",
      "\n",
      "Epoch 27\n",
      "-------------------------------\n",
      "loss: 0.101720  [   32/  167]\n",
      "loss: 0.046896  [  167/  167]\n",
      "Test Error: \n",
      " Accuracy: 83.8%, Avg loss: 0.023535 \n",
      "\n",
      "Epoch 28\n",
      "-------------------------------\n",
      "loss: 0.136276  [   32/  167]\n",
      "loss: 0.137015  [  167/  167]\n",
      "Test Error: \n",
      " Accuracy: 89.2%, Avg loss: 0.020195 \n",
      "\n",
      "Epoch 29\n",
      "-------------------------------\n",
      "loss: 0.088570  [   32/  167]\n",
      "loss: 0.098153  [  167/  167]\n",
      "Test Error: \n",
      " Accuracy: 88.6%, Avg loss: 0.021599 \n",
      "\n",
      "Epoch 30\n",
      "-------------------------------\n",
      "loss: 0.100075  [   32/  167]\n",
      "loss: 0.002559  [  167/  167]\n",
      "Test Error: \n",
      " Accuracy: 83.2%, Avg loss: 0.026826 \n",
      "\n",
      "Epoch 31\n",
      "-------------------------------\n",
      "loss: 0.108528  [   32/  167]\n",
      "loss: 0.067632  [  167/  167]\n",
      "Test Error: \n",
      " Accuracy: 88.6%, Avg loss: 0.022841 \n",
      "\n",
      "Epoch 32\n",
      "-------------------------------\n",
      "loss: 0.064926  [   32/  167]\n",
      "loss: 0.049154  [  167/  167]\n",
      "Test Error: \n",
      " Accuracy: 81.4%, Avg loss: 0.025699 \n",
      "\n",
      "Epoch 33\n",
      "-------------------------------\n",
      "loss: 0.218074  [   32/  167]\n",
      "loss: 0.155213  [  167/  167]\n",
      "Test Error: \n",
      " Accuracy: 90.4%, Avg loss: 0.022911 \n",
      "\n",
      "Epoch 34\n",
      "-------------------------------\n",
      "loss: 0.032689  [   32/  167]\n",
      "loss: 0.086265  [  167/  167]\n",
      "Test Error: \n",
      " Accuracy: 90.4%, Avg loss: 0.024203 \n",
      "\n",
      "Epoch 35\n",
      "-------------------------------\n",
      "loss: 0.070032  [   32/  167]\n",
      "loss: 0.002052  [  167/  167]\n",
      "Test Error: \n",
      " Accuracy: 89.2%, Avg loss: 0.024995 \n",
      "\n",
      "Epoch 36\n",
      "-------------------------------\n",
      "loss: 0.018355  [   32/  167]\n",
      "loss: 0.008528  [  167/  167]\n",
      "Test Error: \n",
      " Accuracy: 89.8%, Avg loss: 0.025753 \n",
      "\n",
      "Epoch 37\n",
      "-------------------------------\n",
      "loss: 0.037156  [   32/  167]\n",
      "loss: 0.049380  [  167/  167]\n",
      "Test Error: \n",
      " Accuracy: 89.2%, Avg loss: 0.027608 \n",
      "\n",
      "Epoch 38\n",
      "-------------------------------\n",
      "loss: 0.028802  [   32/  167]\n",
      "loss: 0.132470  [  167/  167]\n",
      "Test Error: \n",
      " Accuracy: 89.2%, Avg loss: 0.026423 \n",
      "\n",
      "Epoch 39\n",
      "-------------------------------\n",
      "loss: 0.021366  [   32/  167]\n",
      "loss: 0.215018  [  167/  167]\n",
      "Test Error: \n",
      " Accuracy: 82.0%, Avg loss: 0.029758 \n",
      "\n",
      "Epoch 40\n",
      "-------------------------------\n",
      "loss: 0.196206  [   32/  167]\n",
      "loss: 0.094719  [  167/  167]\n",
      "Test Error: \n",
      " Accuracy: 87.4%, Avg loss: 0.029942 \n",
      "\n",
      "Epoch 41\n",
      "-------------------------------\n",
      "loss: 0.135859  [   32/  167]\n",
      "loss: 0.937584  [  167/  167]\n",
      "Test Error: \n",
      " Accuracy: 87.4%, Avg loss: 0.028647 \n",
      "\n",
      "Epoch 42\n",
      "-------------------------------\n",
      "loss: 0.071044  [   32/  167]\n",
      "loss: 0.253441  [  167/  167]\n",
      "Test Error: \n",
      " Accuracy: 82.0%, Avg loss: 0.028917 \n",
      "\n",
      "Epoch 43\n",
      "-------------------------------\n",
      "loss: 0.126401  [   32/  167]\n",
      "loss: 0.164911  [  167/  167]\n",
      "Test Error: \n",
      " Accuracy: 87.4%, Avg loss: 0.028457 \n",
      "\n",
      "Epoch 44\n",
      "-------------------------------\n",
      "loss: 0.060293  [   32/  167]\n",
      "loss: 0.032684  [  167/  167]\n",
      "Test Error: \n",
      " Accuracy: 83.8%, Avg loss: 0.032927 \n",
      "\n",
      "Epoch 45\n",
      "-------------------------------\n",
      "loss: 0.028729  [   32/  167]\n",
      "loss: 0.032004  [  167/  167]\n",
      "Test Error: \n",
      " Accuracy: 88.6%, Avg loss: 0.031813 \n",
      "\n",
      "Epoch 46\n",
      "-------------------------------\n",
      "loss: 0.059747  [   32/  167]\n",
      "loss: 0.090943  [  167/  167]\n",
      "Test Error: \n",
      " Accuracy: 82.0%, Avg loss: 0.042449 \n",
      "\n",
      "Epoch 47\n",
      "-------------------------------\n",
      "loss: 0.155053  [   32/  167]\n",
      "loss: 0.003534  [  167/  167]\n",
      "Test Error: \n",
      " Accuracy: 89.8%, Avg loss: 0.032566 \n",
      "\n",
      "Epoch 48\n",
      "-------------------------------\n",
      "loss: 0.032905  [   32/  167]\n",
      "loss: 0.046287  [  167/  167]\n",
      "Test Error: \n",
      " Accuracy: 89.2%, Avg loss: 0.027624 \n",
      "\n",
      "Epoch 49\n",
      "-------------------------------\n",
      "loss: 0.010987  [   32/  167]\n",
      "loss: 0.047332  [  167/  167]\n",
      "Test Error: \n",
      " Accuracy: 89.2%, Avg loss: 0.027019 \n",
      "\n",
      "Epoch 50\n",
      "-------------------------------\n",
      "loss: 0.039483  [   32/  167]\n",
      "loss: 0.011528  [  167/  167]\n",
      "Test Error: \n",
      " Accuracy: 88.6%, Avg loss: 0.029894 \n",
      "\n",
      "Epoch 51\n",
      "-------------------------------\n",
      "loss: 0.016369  [   32/  167]\n",
      "loss: 0.012850  [  167/  167]\n",
      "Test Error: \n",
      " Accuracy: 90.4%, Avg loss: 0.032616 \n",
      "\n",
      "Epoch 52\n",
      "-------------------------------\n",
      "loss: 0.018671  [   32/  167]\n",
      "loss: 0.000660  [  167/  167]\n",
      "Test Error: \n",
      " Accuracy: 88.0%, Avg loss: 0.037001 \n",
      "\n",
      "Epoch 53\n",
      "-------------------------------\n",
      "loss: 0.012097  [   32/  167]\n",
      "loss: 0.008150  [  167/  167]\n",
      "Test Error: \n",
      " Accuracy: 90.4%, Avg loss: 0.034967 \n",
      "\n",
      "Epoch 54\n",
      "-------------------------------\n",
      "loss: 0.010134  [   32/  167]\n",
      "loss: 0.010003  [  167/  167]\n",
      "Test Error: \n",
      " Accuracy: 90.4%, Avg loss: 0.035707 \n",
      "\n",
      "Epoch 55\n",
      "-------------------------------\n",
      "loss: 0.005696  [   32/  167]\n",
      "loss: 0.006389  [  167/  167]\n",
      "Test Error: \n",
      " Accuracy: 90.4%, Avg loss: 0.037036 \n",
      "\n",
      "Epoch 56\n",
      "-------------------------------\n",
      "loss: 0.008821  [   32/  167]\n",
      "loss: 0.008225  [  167/  167]\n",
      "Test Error: \n",
      " Accuracy: 89.8%, Avg loss: 0.038201 \n",
      "\n",
      "Epoch 57\n",
      "-------------------------------\n",
      "loss: 0.006646  [   32/  167]\n",
      "loss: 0.001953  [  167/  167]\n",
      "Test Error: \n",
      " Accuracy: 89.8%, Avg loss: 0.040246 \n",
      "\n",
      "Epoch 58\n",
      "-------------------------------\n",
      "loss: 0.003976  [   32/  167]\n",
      "loss: 0.002981  [  167/  167]\n",
      "Test Error: \n",
      " Accuracy: 89.8%, Avg loss: 0.041342 \n",
      "\n",
      "Epoch 59\n",
      "-------------------------------\n",
      "loss: 0.003785  [   32/  167]\n",
      "loss: 0.004495  [  167/  167]\n",
      "Test Error: \n",
      " Accuracy: 89.8%, Avg loss: 0.042315 \n",
      "\n",
      "Epoch 60\n",
      "-------------------------------\n",
      "loss: 0.004805  [   32/  167]\n",
      "loss: 0.004928  [  167/  167]\n",
      "Test Error: \n",
      " Accuracy: 89.8%, Avg loss: 0.044564 \n",
      "\n",
      "Epoch 61\n",
      "-------------------------------\n",
      "loss: 0.004035  [   32/  167]\n",
      "loss: 0.000437  [  167/  167]\n",
      "Test Error: \n",
      " Accuracy: 89.8%, Avg loss: 0.045111 \n",
      "\n",
      "Epoch 62\n",
      "-------------------------------\n",
      "loss: 0.009422  [   32/  167]\n",
      "loss: 0.002033  [  167/  167]\n",
      "Test Error: \n",
      " Accuracy: 89.8%, Avg loss: 0.045403 \n",
      "\n",
      "Epoch 63\n",
      "-------------------------------\n",
      "loss: 0.001347  [   32/  167]\n",
      "loss: 0.000312  [  167/  167]\n",
      "Test Error: \n",
      " Accuracy: 89.8%, Avg loss: 0.047269 \n",
      "\n",
      "Epoch 64\n",
      "-------------------------------\n",
      "loss: 0.006096  [   32/  167]\n",
      "loss: 0.001477  [  167/  167]\n",
      "Test Error: \n",
      " Accuracy: 89.8%, Avg loss: 0.047231 \n",
      "\n",
      "Epoch 65\n",
      "-------------------------------\n",
      "loss: 0.004057  [   32/  167]\n",
      "loss: 0.019026  [  167/  167]\n",
      "Test Error: \n",
      " Accuracy: 89.8%, Avg loss: 0.047722 \n",
      "\n",
      "Epoch 66\n",
      "-------------------------------\n",
      "loss: 0.003163  [   32/  167]\n",
      "loss: 0.001177  [  167/  167]\n",
      "Test Error: \n",
      " Accuracy: 89.8%, Avg loss: 0.049310 \n",
      "\n",
      "Epoch 67\n",
      "-------------------------------\n",
      "loss: 0.002875  [   32/  167]\n",
      "loss: 0.000676  [  167/  167]\n",
      "Test Error: \n",
      " Accuracy: 89.8%, Avg loss: 0.049551 \n",
      "\n",
      "Epoch 68\n",
      "-------------------------------\n",
      "loss: 0.001243  [   32/  167]\n",
      "loss: 0.002181  [  167/  167]\n",
      "Test Error: \n",
      " Accuracy: 89.8%, Avg loss: 0.049901 \n",
      "\n",
      "Epoch 69\n",
      "-------------------------------\n",
      "loss: 0.001438  [   32/  167]\n",
      "loss: 0.003392  [  167/  167]\n",
      "Test Error: \n",
      " Accuracy: 89.8%, Avg loss: 0.050649 \n",
      "\n",
      "Epoch 70\n",
      "-------------------------------\n",
      "loss: 0.003286  [   32/  167]\n",
      "loss: 0.002416  [  167/  167]\n",
      "Test Error: \n",
      " Accuracy: 89.8%, Avg loss: 0.051675 \n",
      "\n",
      "Epoch 71\n",
      "-------------------------------\n",
      "loss: 0.000975  [   32/  167]\n",
      "loss: 0.002264  [  167/  167]\n",
      "Test Error: \n",
      " Accuracy: 90.4%, Avg loss: 0.052155 \n",
      "\n",
      "Epoch 72\n",
      "-------------------------------\n",
      "loss: 0.001297  [   32/  167]\n",
      "loss: 0.000055  [  167/  167]\n",
      "Test Error: \n",
      " Accuracy: 89.8%, Avg loss: 0.053110 \n",
      "\n",
      "Epoch 73\n",
      "-------------------------------\n",
      "loss: 0.001044  [   32/  167]\n",
      "loss: 0.000181  [  167/  167]\n",
      "Test Error: \n",
      " Accuracy: 89.8%, Avg loss: 0.053502 \n",
      "\n",
      "Epoch 74\n",
      "-------------------------------\n",
      "loss: 0.001437  [   32/  167]\n",
      "loss: 0.002789  [  167/  167]\n",
      "Test Error: \n",
      " Accuracy: 89.8%, Avg loss: 0.054571 \n",
      "\n",
      "Epoch 75\n",
      "-------------------------------\n",
      "loss: 0.000743  [   32/  167]\n",
      "loss: 0.000006  [  167/  167]\n",
      "Test Error: \n",
      " Accuracy: 89.8%, Avg loss: 0.056375 \n",
      "\n",
      "Epoch 76\n",
      "-------------------------------\n",
      "loss: 0.001211  [   32/  167]\n",
      "loss: 0.000698  [  167/  167]\n",
      "Test Error: \n",
      " Accuracy: 89.8%, Avg loss: 0.055838 \n",
      "\n",
      "Epoch 77\n",
      "-------------------------------\n",
      "loss: 0.001902  [   32/  167]\n",
      "loss: 0.002597  [  167/  167]\n",
      "Test Error: \n",
      " Accuracy: 89.8%, Avg loss: 0.056380 \n",
      "\n",
      "Epoch 78\n",
      "-------------------------------\n",
      "loss: 0.000564  [   32/  167]\n",
      "loss: 0.001788  [  167/  167]\n",
      "Test Error: \n",
      " Accuracy: 89.8%, Avg loss: 0.058159 \n",
      "\n",
      "Epoch 79\n",
      "-------------------------------\n",
      "loss: 0.000899  [   32/  167]\n",
      "loss: 0.000015  [  167/  167]\n",
      "Test Error: \n",
      " Accuracy: 89.8%, Avg loss: 0.059111 \n",
      "\n",
      "Epoch 80\n",
      "-------------------------------\n",
      "loss: 0.000630  [   32/  167]\n",
      "loss: 0.000005  [  167/  167]\n",
      "Test Error: \n",
      " Accuracy: 89.8%, Avg loss: 0.058978 \n",
      "\n",
      "Epoch 81\n",
      "-------------------------------\n",
      "loss: 0.002273  [   32/  167]\n",
      "loss: 0.000045  [  167/  167]\n",
      "Test Error: \n",
      " Accuracy: 89.8%, Avg loss: 0.059169 \n",
      "\n",
      "Epoch 82\n",
      "-------------------------------\n",
      "loss: 0.000876  [   32/  167]\n",
      "loss: 0.001112  [  167/  167]\n",
      "Test Error: \n",
      " Accuracy: 90.4%, Avg loss: 0.060239 \n",
      "\n",
      "Epoch 83\n",
      "-------------------------------\n",
      "loss: 0.000930  [   32/  167]\n",
      "loss: 0.001618  [  167/  167]\n",
      "Test Error: \n",
      " Accuracy: 89.8%, Avg loss: 0.061329 \n",
      "\n",
      "Epoch 84\n",
      "-------------------------------\n",
      "loss: 0.000792  [   32/  167]\n",
      "loss: 0.000044  [  167/  167]\n",
      "Test Error: \n",
      " Accuracy: 89.8%, Avg loss: 0.062196 \n",
      "\n",
      "Epoch 85\n",
      "-------------------------------\n",
      "loss: 0.000502  [   32/  167]\n",
      "loss: 0.000337  [  167/  167]\n",
      "Test Error: \n",
      " Accuracy: 89.8%, Avg loss: 0.062321 \n",
      "\n",
      "Epoch 86\n",
      "-------------------------------\n",
      "loss: 0.000768  [   32/  167]\n",
      "loss: 0.000034  [  167/  167]\n",
      "Test Error: \n",
      " Accuracy: 89.8%, Avg loss: 0.063105 \n",
      "\n",
      "Epoch 87\n",
      "-------------------------------\n",
      "loss: 0.000588  [   32/  167]\n",
      "loss: 0.000157  [  167/  167]\n",
      "Test Error: \n",
      " Accuracy: 89.8%, Avg loss: 0.063621 \n",
      "\n",
      "Epoch 88\n",
      "-------------------------------\n",
      "loss: 0.000479  [   32/  167]\n",
      "loss: 0.000099  [  167/  167]\n",
      "Test Error: \n",
      " Accuracy: 90.4%, Avg loss: 0.064148 \n",
      "\n",
      "Epoch 89\n",
      "-------------------------------\n",
      "loss: 0.000503  [   32/  167]\n",
      "loss: 0.000024  [  167/  167]\n",
      "Test Error: \n",
      " Accuracy: 90.4%, Avg loss: 0.064798 \n",
      "\n",
      "Epoch 90\n",
      "-------------------------------\n",
      "loss: 0.000194  [   32/  167]\n",
      "loss: 0.001261  [  167/  167]\n",
      "Test Error: \n",
      " Accuracy: 90.4%, Avg loss: 0.065453 \n",
      "\n",
      "Epoch 91\n",
      "-------------------------------\n",
      "loss: 0.000529  [   32/  167]\n",
      "loss: 0.000008  [  167/  167]\n",
      "Test Error: \n",
      " Accuracy: 89.8%, Avg loss: 0.065533 \n",
      "\n",
      "Epoch 92\n",
      "-------------------------------\n",
      "loss: 0.000679  [   32/  167]\n",
      "loss: 0.000297  [  167/  167]\n",
      "Test Error: \n",
      " Accuracy: 90.4%, Avg loss: 0.066779 \n",
      "\n",
      "Epoch 93\n",
      "-------------------------------\n",
      "loss: 0.000407  [   32/  167]\n",
      "loss: 0.000902  [  167/  167]\n",
      "Test Error: \n",
      " Accuracy: 89.8%, Avg loss: 0.067485 \n",
      "\n",
      "Epoch 94\n",
      "-------------------------------\n",
      "loss: 0.000406  [   32/  167]\n",
      "loss: 0.000452  [  167/  167]\n",
      "Test Error: \n",
      " Accuracy: 89.8%, Avg loss: 0.067708 \n",
      "\n",
      "Epoch 95\n",
      "-------------------------------\n",
      "loss: 0.000514  [   32/  167]\n",
      "loss: 0.000007  [  167/  167]\n",
      "Test Error: \n",
      " Accuracy: 89.8%, Avg loss: 0.068895 \n",
      "\n",
      "Epoch 96\n",
      "-------------------------------\n",
      "loss: 0.000341  [   32/  167]\n",
      "loss: 0.000544  [  167/  167]\n",
      "Test Error: \n",
      " Accuracy: 89.8%, Avg loss: 0.069411 \n",
      "\n",
      "Epoch 97\n",
      "-------------------------------\n",
      "loss: 0.000270  [   32/  167]\n",
      "loss: 0.000534  [  167/  167]\n",
      "Test Error: \n",
      " Accuracy: 89.8%, Avg loss: 0.069575 \n",
      "\n",
      "Epoch 98\n",
      "-------------------------------\n",
      "loss: 0.001288  [   32/  167]\n",
      "loss: 0.000049  [  167/  167]\n",
      "Test Error: \n",
      " Accuracy: 89.8%, Avg loss: 0.071229 \n",
      "\n",
      "Epoch 99\n",
      "-------------------------------\n",
      "loss: 0.000403  [   32/  167]\n",
      "loss: 0.000110  [  167/  167]\n",
      "Test Error: \n",
      " Accuracy: 89.8%, Avg loss: 0.071236 \n",
      "\n",
      "Epoch 100\n",
      "-------------------------------\n",
      "loss: 0.000129  [   32/  167]\n",
      "loss: 0.000627  [  167/  167]\n",
      "Test Error: \n",
      " Accuracy: 89.8%, Avg loss: 0.070645 \n",
      "\n",
      "Done!\n"
     ]
    }
   ],
   "source": [
    "loss_fn = nn.CrossEntropyLoss()\n",
    "optimizer = torch.optim.Adam(stress_nn.parameters(), lr=learning_rate)\n",
    "test_losses, accuracies = [], []\n",
    "best_accuracy = 0\n",
    "\n",
    "for i in range(1, epochs+1):\n",
    "    print(f\"Epoch {i}\\n-------------------------------\")\n",
    "    train_loop(train_loader, stress_nn, loss_fn, optimizer)\n",
    "    test_loss, accuracy = test_loop(test_loader, stress_nn, loss_fn)\n",
    "    test_losses.append(test_loss)\n",
    "    accuracies.append(accuracy)\n",
    "    if accuracy > best_accuracy:\n",
    "        best_accuracy = accuracy\n",
    "        torch.save(stress_nn.state_dict(), best_model_path)\n",
    "    \n",
    "print(\"Done!\")"
   ]
  },
  {
   "cell_type": "code",
   "execution_count": 101,
   "id": "5bc9ecc6-7b61-4e4d-8c39-caa6ca95ad90",
   "metadata": {},
   "outputs": [
    {
     "data": {
      "text/plain": [
       "[<matplotlib.lines.Line2D at 0x1ec47a8f0d0>]"
      ]
     },
     "execution_count": 101,
     "metadata": {},
     "output_type": "execute_result"
    },
    {
     "data": {
      "image/png": "[encoded data removed]",
      "text/plain": [
       "<Figure size 640x480 with 1 Axes>"
      ]
     },
     "metadata": {},
     "output_type": "display_data"
    }
   ],
   "source": [
    "plt.plot(range(1, len(accuracies)+1), accuracies)"
   ]
  },
  {
   "cell_type": "code",
   "execution_count": 102,
   "id": "88334a48-c8cd-4c2a-a807-dd6d15f7e215",
   "metadata": {},
   "outputs": [
    {
     "data": {
      "text/plain": [
       "[<matplotlib.lines.Line2D at 0x1ec489e60d0>]"
      ]
     },
     "execution_count": 102,
     "metadata": {},
     "output_type": "execute_result"
    },
    {
     "data": {
      "image/png": "[encoded data removed]",
      "text/plain": [
       "<Figure size 640x480 with 1 Axes>"
      ]
     },
     "metadata": {},
     "output_type": "display_data"
    }
   ],
   "source": [
    "plt.plot(range(1, len(test_losses)+1), test_losses)"
   ]
  },
  {
   "cell_type": "code",
   "execution_count": 112,
   "id": "57263d7d-e041-491d-bf28-784b783b10f1",
   "metadata": {},
   "outputs": [
    {
     "data": {
      "text/plain": [
       "<All keys matched successfully>"
      ]
     },
     "execution_count": 112,
     "metadata": {},
     "output_type": "execute_result"
    }
   ],
   "source": [
    "stress_nn.load_state_dict(torch.load(best_model_path))"
   ]
  },
  {
   "cell_type": "code",
   "execution_count": 113,
   "id": "6715416e-55df-4ab3-8cda-f3ce56ef5775",
   "metadata": {},
   "outputs": [
    {
     "name": "stdout",
     "output_type": "stream",
     "text": [
      "              precision    recall  f1-score   support\n",
      "\n",
      "      Stress       0.91      0.93      0.92        97\n",
      "  Not stress       0.90      0.87      0.88        70\n",
      "\n",
      "    accuracy                           0.90       167\n",
      "   macro avg       0.90      0.90      0.90       167\n",
      "weighted avg       0.90      0.90      0.90       167\n",
      "\n"
     ]
    }
   ],
   "source": [
    "y_test = []\n",
    "y_pred = []\n",
    "for X, y in test_loader:\n",
    "    y_test.extend(y)\n",
    "    pred = stress_nn(X.to(device))\n",
    "    y_pred.extend(pred.detach().cpu().argmax(dim=1))\n",
    "cm = confusion_matrix(y_test, y_pred)\n",
    "clr = classification_report(y_test, y_pred, target_names=['Stress', 'Not stress'])\n",
    "print(clr)"
   ]
  },
  {
   "cell_type": "code",
   "execution_count": 125,
   "id": "816ab98c-c555-482d-ac5f-412a8f9811db",
   "metadata": {},
   "outputs": [],
   "source": [
    "x = test_loader.dataset.tensors[0][10]"
   ]
  },
  {
   "cell_type": "code",
   "execution_count": 163,
   "id": "95f31375-ae41-4224-8c4c-85556b0129a4",
   "metadata": {},
   "outputs": [
    {
     "name": "stdout",
     "output_type": "stream",
     "text": [
      "852 µs ± 119 µs per loop (mean ± std. dev. of 20 runs, 5 loops each)\n"
     ]
    }
   ],
   "source": [
    "%%timeit -r 20 -n 5\n",
    "stress_nn(X.to(device)).detach().cpu().argmax()"
   ]
  },
  {
   "cell_type": "code",
   "execution_count": 106,
   "id": "314801db-f6fd-40e3-ad39-fd119d4186ec",
   "metadata": {},
   "outputs": [
    {
     "name": "stdout",
     "output_type": "stream",
     "text": [
      "StressRecognitionNetwork(\n",
      "  (flatten): Flatten(start_dim=1, end_dim=-1)\n",
      "  (linear_relu_stack): Sequential(\n",
      "    (0): Linear(in_features=352, out_features=256, bias=True)\n",
      "    (1): ReLU()\n",
      "    (2): Linear(in_features=256, out_features=128, bias=True)\n",
      "    (3): ReLU()\n",
      "    (4): Linear(in_features=128, out_features=64, bias=True)\n",
      "    (5): ReLU()\n",
      "    (6): Linear(in_features=64, out_features=16, bias=True)\n",
      "    (7): ReLU()\n",
      "    (8): Linear(in_features=16, out_features=2, bias=True)\n",
      "  )\n",
      ")\n"
     ]
    }
   ],
   "source": [
    "print(stress_nn)"
   ]
  },
  {
   "cell_type": "code",
   "execution_count": 83,
   "id": "c0cd9a09-0cc2-4574-b811-1d8db5344d2d",
   "metadata": {},
   "outputs": [
    {
     "data": {
      "text/plain": [
       "array([[88,  9],\n",
       "       [ 7, 63]], dtype=int64)"
      ]
     },
     "execution_count": 83,
     "metadata": {},
     "output_type": "execute_result"
    }
   ],
   "source": [
    "cm"
   ]
  },
  {
   "cell_type": "code",
   "execution_count": 115,
   "id": "3cebddb7-060b-4193-81c5-fe06389437b8",
   "metadata": {},
   "outputs": [
    {
     "data": {
      "image/png": "[encoded data removed]",
      "text/plain": [
       "<Figure size 800x800 with 1 Axes>"
      ]
     },
     "metadata": {},
     "output_type": "display_data"
    },
    {
     "name": "stdout",
     "output_type": "stream",
     "text": [
      "Classification Report:\n",
      "----------------------\n",
      "               precision    recall  f1-score   support\n",
      "\n",
      "      Stress       0.92      0.94      0.93        97\n",
      "  Not stress       0.91      0.89      0.90        70\n",
      "\n",
      "    accuracy                           0.92       167\n",
      "   macro avg       0.92      0.91      0.91       167\n",
      "weighted avg       0.92      0.92      0.92       167\n",
      "\n"
     ]
    }
   ],
   "source": [
    "plt.figure(figsize=(8, 8))\n",
    "sns.heatmap(cm, annot=True, vmin=0, fmt='g', cbar=False, cmap='Blues')\n",
    "plt.xticks(np.arange(2) + 0.5, ['Спокойствие', 'Стресс'])\n",
    "plt.yticks(np.arange(2) + 0.5, ['Спокойствие', 'Стресс'])\n",
    "plt.xlabel(\"Предсказания\")\n",
    "plt.ylabel(\"Метки\")\n",
    "plt.title(\"Матрица запутанности\")\n",
    "plt.show()\n",
    "\n",
    "print(\"Classification Report:\\n----------------------\\n\", clr)"
   ]
  },
  {
   "cell_type": "code",
   "execution_count": 35,
   "id": "7bae164a-356f-4cc8-b6af-6975621a905a",
   "metadata": {},
   "outputs": [],
   "source": [
    "with open(r\"C:\\Перенос\\Доки\\Мага брат\\Методология научных исследований\\ВКР\\Отфильтрованные записи\\Признаки\\features_stress_masha_01.npy\", mode='rb') as f:\n",
    "    features_stress = np.load(f)"
   ]
  },
  {
   "cell_type": "code",
   "execution_count": 108,
   "id": "a8c920f3-6939-40fa-a080-f95013181c26",
   "metadata": {},
   "outputs": [],
   "source": [
    "with open(r\"C:\\Перенос\\Доки\\Мага брат\\Методология научных исследований\\ВКР\\Отфильтрованные записи\\Признаки\\features_stress_masha_01.npy\", mode='rb') as f:\n",
    "    features_stress = np.load(f)"
   ]
  },
  {
   "cell_type": "code",
   "execution_count": 84,
   "id": "675cdaef-04b9-4a1e-a259-dd21e9c262de",
   "metadata": {},
   "outputs": [],
   "source": [
    "with open(r\"C:\\Перенос\\Доки\\Мага брат\\Методология научных исследований\\ВКР\\Отфильтрованные записи\\Признаки\\features_relax_masha_01.npy\", mode='rb') as f:\n",
    "    features_relax = np.load(f)"
   ]
  },
  {
   "cell_type": "code",
   "execution_count": 104,
   "id": "2677ed68-c657-418a-8e23-f6f3cbfdfdf9",
   "metadata": {},
   "outputs": [],
   "source": [
    "# X_valid, y_valid = features_relax[:, 1:], features_relax[:, 0]\n",
    "X_valid, y_valid = features_relax[42:, 1:], features_relax[42:, 0]"
   ]
  },
  {
   "cell_type": "code",
   "execution_count": 109,
   "id": "162d9c89-63de-4d87-9845-8995556e7a9d",
   "metadata": {},
   "outputs": [],
   "source": [
    "X_valid, y_valid = features_stress[5:, 1:], features_stress[5:, 0]\n"
   ]
  },
  {
   "cell_type": "code",
   "execution_count": 26,
   "id": "f5805f3d-f048-4212-accd-7e16fa272807",
   "metadata": {},
   "outputs": [
    {
     "data": {
      "text/plain": [
       "(180, 352)"
      ]
     },
     "execution_count": 26,
     "metadata": {},
     "output_type": "execute_result"
    }
   ],
   "source": [
    "X_valid.shape"
   ]
  },
  {
   "cell_type": "code",
   "execution_count": 110,
   "id": "61c2334f-c214-4f3f-9a6a-cc3054f4db66",
   "metadata": {},
   "outputs": [],
   "source": [
    "valid = torch.tensor(X_valid.astype(np.float32))\n",
    "valid_target = torch.tensor(y_valid, dtype=torch.long)\n",
    "valid_dataset = torch.utils.data.TensorDataset(valid, valid_target)\n",
    "valid_loader = torch.utils.data.DataLoader(dataset=valid_dataset,\n",
    "                                          batch_size=batch_size,\n",
    "                                          shuffle=False)"
   ]
  },
  {
   "cell_type": "code",
   "execution_count": 114,
   "id": "f96f3406-60a4-4f2d-9422-5d53c9de6b94",
   "metadata": {},
   "outputs": [
    {
     "name": "stdout",
     "output_type": "stream",
     "text": [
      "              precision    recall  f1-score   support\n",
      "\n",
      "           0       0.00      0.00      0.00         0\n",
      "           1       1.00      0.93      0.97        60\n",
      "\n",
      "    accuracy                           0.93        60\n",
      "   macro avg       0.50      0.47      0.48        60\n",
      "weighted avg       1.00      0.93      0.97        60\n",
      "\n"
     ]
    },
    {
     "name": "stderr",
     "output_type": "stream",
     "text": [
      "C:\\Users\\Арсений\\AppData\\Local\\Programs\\Python\\Python311\\Lib\\site-packages\\sklearn\\metrics\\_classification.py:1469: UndefinedMetricWarning: Recall and F-score are ill-defined and being set to 0.0 in labels with no true samples. Use `zero_division` parameter to control this behavior.\n",
      "  _warn_prf(average, modifier, msg_start, len(result))\n",
      "C:\\Users\\Арсений\\AppData\\Local\\Programs\\Python\\Python311\\Lib\\site-packages\\sklearn\\metrics\\_classification.py:1469: UndefinedMetricWarning: Recall and F-score are ill-defined and being set to 0.0 in labels with no true samples. Use `zero_division` parameter to control this behavior.\n",
      "  _warn_prf(average, modifier, msg_start, len(result))\n",
      "C:\\Users\\Арсений\\AppData\\Local\\Programs\\Python\\Python311\\Lib\\site-packages\\sklearn\\metrics\\_classification.py:1469: UndefinedMetricWarning: Recall and F-score are ill-defined and being set to 0.0 in labels with no true samples. Use `zero_division` parameter to control this behavior.\n",
      "  _warn_prf(average, modifier, msg_start, len(result))\n"
     ]
    }
   ],
   "source": [
    "y_test = []\n",
    "y_pred = []\n",
    "for X, y in valid_loader:\n",
    "    y_test.extend(y)\n",
    "    pred = stress_nn(X.to(device))\n",
    "    y_pred.extend(pred.detach().cpu().argmax(dim=1))\n",
    "cm = confusion_matrix(y_test, y_pred)\n",
    "clr = classification_report(y_test, y_pred)\n",
    "# clr = classification_report(y_test, y_pred, target_names=['Stress', 'Not stress'])\n",
    "print(clr)"
   ]
  },
  {
   "cell_type": "code",
   "execution_count": 107,
   "id": "bb5daea9-9b53-4114-bac5-e9b0bf2aca73",
   "metadata": {},
   "outputs": [
    {
     "data": {
      "text/plain": [
       "array([[98, 40],\n",
       "       [ 0,  0]], dtype=int64)"
      ]
     },
     "execution_count": 107,
     "metadata": {},
     "output_type": "execute_result"
    }
   ],
   "source": [
    "cm"
   ]
  },
  {
   "cell_type": "code",
   "execution_count": 91,
   "id": "58449294-229f-47b8-ac25-7dc5c20df790",
   "metadata": {},
   "outputs": [
    {
     "ename": "NameError",
     "evalue": "name 'all_y_test' is not defined",
     "output_type": "error",
     "traceback": [
      "\u001b[1;31m---------------------------------------------------------------------------\u001b[0m",
      "\u001b[1;31mNameError\u001b[0m                                 Traceback (most recent call last)",
      "Cell \u001b[1;32mIn[91], line 1\u001b[0m\n\u001b[1;32m----> 1\u001b[0m \u001b[43mall_y_test\u001b[49m\u001b[38;5;241m.\u001b[39mextend(y_test)\n\u001b[0;32m      2\u001b[0m all_y_pred\u001b[38;5;241m.\u001b[39mextend(y_pred)\n",
      "\u001b[1;31mNameError\u001b[0m: name 'all_y_test' is not defined"
     ]
    }
   ],
   "source": [
    "all_y_test.extend(y_test)\n",
    "all_y_pred.extend(y_pred)"
   ]
  },
  {
   "cell_type": "code",
   "execution_count": 51,
   "id": "a3a70602-8146-4e46-ba80-d39f74404662",
   "metadata": {},
   "outputs": [
    {
     "name": "stdout",
     "output_type": "stream",
     "text": [
      "              precision    recall  f1-score   support\n",
      "\n",
      "           0       0.97      0.81      0.89       138\n",
      "           1       0.69      0.95      0.80        60\n",
      "\n",
      "    accuracy                           0.85       198\n",
      "   macro avg       0.83      0.88      0.84       198\n",
      "weighted avg       0.89      0.85      0.86       198\n",
      "\n"
     ]
    }
   ],
   "source": [
    "clr = classification_report(all_y_test, all_y_pred)\n",
    "print(clr)"
   ]
  },
  {
   "cell_type": "code",
   "execution_count": 96,
   "id": "ce37ca76-4e8e-4742-9336-2d455a25a970",
   "metadata": {},
   "outputs": [
    {
     "data": {
      "text/plain": [
       "array([[100,  38],\n",
       "       [  0,   0]], dtype=int64)"
      ]
     },
     "execution_count": 96,
     "metadata": {},
     "output_type": "execute_result"
    }
   ],
   "source": [
    "cm"
   ]
  },
  {
   "cell_type": "code",
   "execution_count": 9,
   "id": "3ebc7adb-9730-45f0-9808-dab429f9693a",
   "metadata": {},
   "outputs": [],
   "source": [
    "data_path = \"C:\\Перенос\\Доки\\Мага брат\\Методология научных исследований\\ВКР\\eeg-during-mental-arithmetic-tasks-1.0.0\\eeg-during-mental-arithmetic-tasks-1.0.0\""
   ]
  },
  {
   "cell_type": "code",
   "execution_count": 63,
   "id": "1061caeb-854e-44b6-bcfa-0698932003d3",
   "metadata": {},
   "outputs": [],
   "source": [
    "freqs = [(0, 4), \n",
    "         (4, 8),\n",
    "         (8, 12),\n",
    "         (12, 30),\n",
    "         (30, 45)]\n",
    "data_time = 62\n",
    "seq_filters = filter_data_func(crop_eeg_func(data_time), \n",
    "                               freq_mean_func(freqs),\n",
    "                               normalize)\n",
    "dataset = EEGDataset(data_dir=data_path, get_annotation=get_annotation, filter=seq_filters, drop_channels='ECG ECG')\n",
    "\n",
    "generator = torch.Generator().manual_seed(42)\n",
    "training_data, test_data = random_split(dataset, [0.7, 0.3], generator)\n",
    "\n",
    "train_dataloader = DataLoader(training_data, batch_size=batch_size, shuffle=True)\n",
    "test_dataloader = DataLoader(test_data, batch_size=batch_size, shuffle=True)"
   ]
  },
  {
   "cell_type": "code",
   "execution_count": 64,
   "id": "0a546fb7-6f1d-4bf5-9c49-47cb49f12a64",
   "metadata": {},
   "outputs": [
    {
     "data": {
      "text/plain": [
       "100"
      ]
     },
     "execution_count": 64,
     "metadata": {},
     "output_type": "execute_result"
    }
   ],
   "source": [
    "dataset[0][0].size"
   ]
  },
  {
   "cell_type": "code",
   "execution_count": 65,
   "id": "a133baf6-b519-4081-85da-481df77594b8",
   "metadata": {},
   "outputs": [
    {
     "data": {
      "text/plain": [
       "StressRecognitionNetwork(\n",
       "  (flatten): Flatten(start_dim=1, end_dim=-1)\n",
       "  (linear_relu_stack): Sequential(\n",
       "    (0): Linear(in_features=100, out_features=54, bias=True)\n",
       "    (1): ReLU()\n",
       "    (2): Linear(in_features=54, out_features=32, bias=True)\n",
       "    (3): ReLU()\n",
       "    (4): Linear(in_features=32, out_features=16, bias=True)\n",
       "    (5): ReLU()\n",
       "    (6): Linear(in_features=16, out_features=8, bias=True)\n",
       "    (7): ReLU()\n",
       "    (8): Linear(in_features=8, out_features=2, bias=True)\n",
       "  )\n",
       ")"
      ]
     },
     "execution_count": 65,
     "metadata": {},
     "output_type": "execute_result"
    }
   ],
   "source": [
    "input_size = dataset[0][0].size\n",
    "stress_nn = StressRecognitionNetwork(input_size)\n",
    "stress_nn.to(device)"
   ]
  },
  {
   "cell_type": "code",
   "execution_count": 66,
   "id": "daebbfcc-d07a-46db-b77d-3363c90d01a1",
   "metadata": {
    "scrolled": true
   },
   "outputs": [
    {
     "name": "stdout",
     "output_type": "stream",
     "text": [
      "Epoch 1\n",
      "-------------------------------\n",
      "loss: 0.680595  [    4/   51]\n",
      "loss: 0.674236  [   24/   51]\n",
      "loss: 0.725456  [   44/   51]\n",
      "Test Error: \n",
      " Accuracy: 9.5%, Avg loss: 0.693719 \n",
      "\n",
      "Epoch 2\n",
      "-------------------------------\n",
      "loss: 0.686244  [    4/   51]\n",
      "loss: 0.701223  [   24/   51]\n",
      "loss: 0.696340  [   44/   51]\n",
      "Test Error: \n",
      " Accuracy: 14.3%, Avg loss: 0.690719 \n",
      "\n",
      "Epoch 3\n",
      "-------------------------------\n",
      "loss: 0.694919  [    4/   51]\n",
      "loss: 0.694977  [   24/   51]\n",
      "loss: 0.692036  [   44/   51]\n",
      "Test Error: \n",
      " Accuracy: 14.3%, Avg loss: 0.686150 \n",
      "\n",
      "Epoch 4\n",
      "-------------------------------\n",
      "loss: 0.660753  [    4/   51]\n",
      "loss: 0.694067  [   24/   51]\n",
      "loss: 0.629243  [   44/   51]\n",
      "Test Error: \n",
      " Accuracy: 0.0%, Avg loss: 0.701009 \n",
      "\n",
      "Epoch 5\n",
      "-------------------------------\n",
      "loss: 0.661830  [    4/   51]\n",
      "loss: 0.677056  [   24/   51]\n",
      "loss: 0.654388  [   44/   51]\n",
      "Test Error: \n",
      " Accuracy: 14.3%, Avg loss: 0.699605 \n",
      "\n",
      "Epoch 6\n",
      "-------------------------------\n",
      "loss: 0.609258  [    4/   51]\n",
      "loss: 0.565678  [   24/   51]\n",
      "loss: 0.660433  [   44/   51]\n",
      "Test Error: \n",
      " Accuracy: 4.8%, Avg loss: 0.677549 \n",
      "\n",
      "Epoch 7\n",
      "-------------------------------\n",
      "loss: 0.598064  [    4/   51]\n",
      "loss: 0.588845  [   24/   51]\n",
      "loss: 0.534307  [   44/   51]\n",
      "Test Error: \n",
      " Accuracy: 0.0%, Avg loss: 0.690003 \n",
      "\n",
      "Epoch 8\n",
      "-------------------------------\n",
      "loss: 0.530061  [    4/   51]\n",
      "loss: 0.592062  [   24/   51]\n",
      "loss: 0.422763  [   44/   51]\n",
      "Test Error: \n",
      " Accuracy: 38.1%, Avg loss: 0.654362 \n",
      "\n",
      "Epoch 9\n",
      "-------------------------------\n",
      "loss: 0.555909  [    4/   51]\n",
      "loss: 0.468103  [   24/   51]\n",
      "loss: 0.434336  [   44/   51]\n",
      "Test Error: \n",
      " Accuracy: 14.3%, Avg loss: 0.671769 \n",
      "\n",
      "Epoch 10\n",
      "-------------------------------\n",
      "loss: 0.362726  [    4/   51]\n",
      "loss: 0.704879  [   24/   51]\n",
      "loss: 0.339271  [   44/   51]\n",
      "Test Error: \n",
      " Accuracy: 4.8%, Avg loss: 0.695283 \n",
      "\n",
      "Done!\n"
     ]
    }
   ],
   "source": [
    "loss_fn = nn.CrossEntropyLoss()\n",
    "optimizer = torch.optim.Adam(stress_nn.parameters(), lr=learning_rate)\n",
    "\n",
    "for i in range(1, epochs+1):\n",
    "    print(f\"Epoch {i}\\n-------------------------------\")\n",
    "    train_loop(train_dataloader, stress_nn, loss_fn, optimizer)\n",
    "    test_loop(test_dataloader, stress_nn, loss_fn)\n",
    "print(\"Done!\")"
   ]
  },
  {
   "cell_type": "code",
   "execution_count": 77,
   "id": "5cb0cd51-c264-4463-9df3-c33731d92960",
   "metadata": {},
   "outputs": [],
   "source": [
    "y_test = []\n",
    "y_pred = []\n",
    "for X, y in test_dataloader:\n",
    "    y_test.extend(y)\n",
    "    pred = stress_nn(X.to(device))\n",
    "    y_pred.extend(pred.detach().cpu().argmax(dim=1))\n",
    "    # print(pred.cpu().argmax(dim=1), y)"
   ]
  },
  {
   "cell_type": "code",
   "execution_count": 71,
   "id": "f3789ee6-5987-49c7-b6b9-fe3ae4719dfd",
   "metadata": {},
   "outputs": [],
   "source": []
  },
  {
   "cell_type": "code",
   "execution_count": 79,
   "id": "4a28e52d-3041-40a3-be6b-f20069deb03c",
   "metadata": {},
   "outputs": [],
   "source": [
    "cm = confusion_matrix(y_test, y_pred)\n",
    "clr = classification_report(y_test, y_pred, target_names=['Stress', 'Not stress'])"
   ]
  },
  {
   "cell_type": "code",
   "execution_count": 81,
   "id": "f992a0da-75d3-4c7d-9a3b-9b668a1301b2",
   "metadata": {},
   "outputs": [
    {
     "name": "stdout",
     "output_type": "stream",
     "text": [
      "              precision    recall  f1-score   support\n",
      "\n",
      "      Stress       0.60      0.67      0.63         9\n",
      "  Not stress       0.73      0.67      0.70        12\n",
      "\n",
      "    accuracy                           0.67        21\n",
      "   macro avg       0.66      0.67      0.66        21\n",
      "weighted avg       0.67      0.67      0.67        21\n",
      "\n"
     ]
    }
   ],
   "source": [
    "print(clr)"
   ]
  },
  {
   "cell_type": "code",
   "execution_count": null,
   "id": "8f1efd63-732e-4954-b557-d7f1b2d120e9",
   "metadata": {},
   "outputs": [],
   "source": []
  },
  {
   "cell_type": "code",
   "execution_count": 99,
   "id": "bde24b1c-6926-42bb-9bf5-7570f3bc860c",
   "metadata": {},
   "outputs": [],
   "source": [
    "raw = dataset[0][0]"
   ]
  },
  {
   "cell_type": "code",
   "execution_count": 109,
   "id": "5ef715c4-be49-41e8-8d6c-374097b56210",
   "metadata": {},
   "outputs": [
    {
     "data": {
      "text/plain": [
       "(21,)"
      ]
     },
     "execution_count": 109,
     "metadata": {},
     "output_type": "execute_result"
    }
   ],
   "source": []
  },
  {
   "cell_type": "code",
   "execution_count": 100,
   "id": "a11c8283-9d93-465c-8830-6b4f582191af",
   "metadata": {},
   "outputs": [
    {
     "name": "stdout",
     "output_type": "stream",
     "text": [
      "Reading 0 ... 30999  =      0.000 ...    61.998 secs...\n",
      "Filtering raw data in 1 contiguous segment\n",
      "Setting up band-pass filter from 4 - 7 Hz\n",
      "\n",
      "FIR filter parameters\n",
      "---------------------\n",
      "Designing a one-pass, zero-phase, non-causal bandpass filter:\n",
      "- Windowed time-domain design (firwin) method\n",
      "- Hamming window with 0.0194 passband ripple and 53 dB stopband attenuation\n",
      "- Lower passband edge: 4.00\n",
      "- Lower transition bandwidth: 1.00 Hz (-6 dB cutoff frequency: 3.50 Hz)\n",
      "- Upper passband edge: 7.00 Hz\n",
      "- Upper transition bandwidth: 1.00 Hz (-6 dB cutoff frequency: 7.50 Hz)\n",
      "- Filter length: 1651 samples (3.302 s)\n",
      "\n"
     ]
    },
    {
     "name": "stderr",
     "output_type": "stream",
     "text": [
      "[Parallel(n_jobs=1)]: Using backend SequentialBackend with 1 concurrent workers.\n",
      "[Parallel(n_jobs=1)]: Done   1 out of   1 | elapsed:    0.0s remaining:    0.0s\n",
      "[Parallel(n_jobs=1)]: Done   2 out of   2 | elapsed:    0.0s remaining:    0.0s\n",
      "[Parallel(n_jobs=1)]: Done   3 out of   3 | elapsed:    0.0s remaining:    0.0s\n",
      "[Parallel(n_jobs=1)]: Done   4 out of   4 | elapsed:    0.0s remaining:    0.0s\n",
      "[Parallel(n_jobs=1)]: Done  21 out of  21 | elapsed:    0.0s finished\n"
     ]
    },
    {
     "data": {
      "text/html": [
       "<details open>\n",
       "    <summary><strong>General</strong></summary>\n",
       "    <table class=\"table table-hover table-striped table-sm table-responsive small\">\n",
       "        <tr>\n",
       "            <th>Measurement date</th>\n",
       "            \n",
       "            <td>January 01, 2011  00:00:00 GMT</td>\n",
       "            \n",
       "        </tr>\n",
       "        <tr>\n",
       "            <th>Experimenter</th>\n",
       "            \n",
       "            <td>Unknown</td>\n",
       "            \n",
       "        </tr>\n",
       "        <tr>\n",
       "            <th>Participant</th>\n",
       "            \n",
       "            \n",
       "            <td>0</td>\n",
       "            \n",
       "            \n",
       "        </tr>\n",
       "    </table>\n",
       "    </details>\n",
       "    <details open>\n",
       "        <summary><strong>Channels</strong></summary>\n",
       "        <table class=\"table table-hover table-striped table-sm table-responsive small\">\n",
       "            <tr>\n",
       "                <th>Digitized points</th>\n",
       "                \n",
       "                <td>Not available</td>\n",
       "                \n",
       "            </tr>\n",
       "            <tr>\n",
       "                <th>Good channels</th>\n",
       "                <td>21 EEG</td>\n",
       "            </tr>\n",
       "            <tr>\n",
       "                <th>Bad channels</th>\n",
       "                <td>None</td>\n",
       "            </tr>\n",
       "            <tr>\n",
       "                <th>EOG channels</th>\n",
       "                <td>Not available</td>\n",
       "            </tr>\n",
       "            <tr>\n",
       "                <th>ECG channels</th>\n",
       "                <td>Not available</td>\n",
       "            </tr>\n",
       "        </table>\n",
       "        </details>\n",
       "        <details open>\n",
       "            <summary><strong>Data</strong></summary>\n",
       "            <table class=\"table table-hover table-striped table-sm table-responsive small\">\n",
       "                \n",
       "                <tr>\n",
       "                    <th>Sampling frequency</th>\n",
       "                    <td>500.00 Hz</td>\n",
       "                </tr>\n",
       "                \n",
       "                \n",
       "                <tr>\n",
       "                    <th>Highpass</th>\n",
       "                    <td>4.00 Hz</td>\n",
       "                </tr>\n",
       "                \n",
       "                \n",
       "                <tr>\n",
       "                    <th>Lowpass</th>\n",
       "                    <td>7.00 Hz</td>\n",
       "                </tr>\n",
       "                \n",
       "                \n",
       "                \n",
       "                <tr>\n",
       "                    <th>Filenames</th>\n",
       "                    <td>Subject00_1.edf</td>\n",
       "                </tr>\n",
       "                \n",
       "                \n",
       "                <tr>\n",
       "                    <th>Duration</th>\n",
       "                    <td>00:01:02 (HH:MM:SS)</td>\n",
       "                </tr>\n",
       "                \n",
       "            </table>\n",
       "            </details>"
      ],
      "text/plain": [
       "<RawEDF | Subject00_1.edf, 21 x 31000 (62.0 s), ~5.0 MB, data loaded>"
      ]
     },
     "execution_count": 100,
     "metadata": {},
     "output_type": "execute_result"
    }
   ],
   "source": [
    "raw.load_data()\n",
    "raw.filter(\n",
    "    4,\n",
    "    7,\n",
    "    n_jobs=None,  # use more jobs to speed up.\n",
    "    l_trans_bandwidth=1,  # make sure filter params are the same\n",
    "    h_trans_bandwidth=1)\n",
    "raw.get_data().mean(axis=1).shape"
   ]
  },
  {
   "cell_type": "code",
   "execution_count": 26,
   "id": "db966f90-6cb8-49b4-b7bb-5cc2f90aad80",
   "metadata": {},
   "outputs": [
    {
     "data": {
      "text/plain": [
       "array([-3.64793763e-06, -4.23648168e-06, -4.95421832e-06, ...,\n",
       "       -1.42194009e-05, -1.42927696e-05, -1.41747417e-05])"
      ]
     },
     "execution_count": 26,
     "metadata": {},
     "output_type": "execute_result"
    }
   ],
   "source": [
    "raw.get_data()[0]"
   ]
  },
  {
   "cell_type": "code",
   "execution_count": 27,
   "id": "c62f7582-c74f-41cd-88c7-c14bfcd672e7",
   "metadata": {},
   "outputs": [
    {
     "name": "stdout",
     "output_type": "stream",
     "text": [
      "NOTE: plot_psd() is a legacy function. New code should use .compute_psd().plot().\n",
      "Effective window size : 4.096 (s)\n"
     ]
    },
    {
     "name": "stderr",
     "output_type": "stream",
     "text": [
      "C:\\Users\\Арсений\\AppData\\Local\\Temp\\ipykernel_13144\\1678697157.py:1: RuntimeWarning: Channel locations not available. Disabling spatial colors.\n",
      "  raw.plot_psd(fmax=45)\n",
      "C:\\Users\\Арсений\\AppData\\Local\\Programs\\Python\\Python311\\Lib\\site-packages\\mne\\viz\\utils.py:165: UserWarning: Matplotlib is currently using module://matplotlib_inline.backend_inline, which is a non-GUI backend, so cannot show the figure.\n",
      "  (fig or plt).show(**kwargs)\n"
     ]
    },
    {
     "data": {
      "image/png": "[encoded data removed]",
      "text/plain": [
       "<MNELineFigure size 1000x350 with 1 Axes>"
      ]
     },
     "execution_count": 27,
     "metadata": {},
     "output_type": "execute_result"
    }
   ],
   "source": [
    "raw.plot_psd(fmax=45)"
   ]
  },
  {
   "cell_type": "code",
   "execution_count": 28,
   "id": "9e7b1ece-236b-4e22-afec-6b89245e6a3d",
   "metadata": {},
   "outputs": [],
   "source": [
    "from scipy.fftpack import rfft, rfftfreq"
   ]
  },
  {
   "cell_type": "code",
   "execution_count": 98,
   "id": "a13a1245-bcb2-4e5b-99ed-c72545b99108",
   "metadata": {},
   "outputs": [
    {
     "data": {
      "text/plain": [
       "array([60, 61, 62, 63, 64, 65, 66, 67, 68, 69, 70, 71, 72, 73, 74, 75, 76,\n",
       "       77, 78, 79, 80, 81, 82, 83, 84, 85, 86, 87, 88, 89, 90],\n",
       "      dtype=int64)"
      ]
     },
     "execution_count": 98,
     "metadata": {},
     "output_type": "execute_result"
    }
   ],
   "source": [
    "freq_ix"
   ]
  },
  {
   "cell_type": "code",
   "execution_count": 91,
   "id": "a811b6b8-f0c6-4d4d-946c-2f7b1bee2227",
   "metadata": {},
   "outputs": [
    {
     "data": {
      "image/png": "[encoded data removed]",
      "text/plain": [
       "<Figure size 640x480 with 1 Axes>"
      ]
     },
     "metadata": {},
     "output_type": "display_data"
    }
   ],
   "source": [
    "fs = 512                                # Sampling rate (512 Hz)\n",
    "data = np.random.uniform(0, 100, 1024)  # 2 sec of data b/w 0.0-100.0\n",
    "\n",
    "# fs = 250\n",
    "# data = raw.get_data()\n",
    "\n",
    "# Get real amplitudes of FFT (only in postive frequencies)\n",
    "fft_vals = np.absolute(np.fft.rfft(data))\n",
    "\n",
    "# Get frequencies for amplitudes in Hz\n",
    "fft_freq = np.fft.rfftfreq(len(data), 1.0/fs)\n",
    "\n",
    "# Define EEG bands\n",
    "eeg_bands = {'Delta': (0, 4),\n",
    "             'Theta': (4, 8),\n",
    "             'Alpha': (8, 12),\n",
    "             'Beta': (12, 30),\n",
    "             'Gamma': (30, 45)}\n",
    "\n",
    "# Take the mean of the fft amplitude for each EEG band\n",
    "eeg_band_fft = dict()\n",
    "eeg_band_fft_val = dict()\n",
    "for band in eeg_bands:  \n",
    "    freq_ix = np.where((fft_freq >= eeg_bands[band][0]) & \n",
    "                       (fft_freq <= eeg_bands[band][1]))[0]\n",
    "    eeg_band_fft[band] = np.mean(fft_vals[freq_ix])\n",
    "    eeg_band_fft_val[band] = fft_vals[freq_ix]\n",
    "\n",
    "# Plot the data (using pandas here cause it's easy)\n",
    "import pandas as pd\n",
    "df = pd.DataFrame(columns=['band', 'val'])\n",
    "df['band'] = eeg_bands.keys()\n",
    "df['val'] = [eeg_band_fft[band] for band in eeg_bands]\n",
    "ax = df.plot.bar(x='band', y='val', legend=False)\n",
    "ax.set_xlabel(\"EEG band\")\n",
    "ax.set_ylabel(\"Mean band Amplitude\")\n",
    "plt.show()"
   ]
  },
  {
   "cell_type": "code",
   "execution_count": 82,
   "id": "7edaea01-b114-487e-a629-805af6dc8e09",
   "metadata": {},
   "outputs": [
    {
     "name": "stderr",
     "output_type": "stream",
     "text": [
      "C:\\Users\\Арсений\\AppData\\Local\\Programs\\Python\\Python311\\Lib\\site-packages\\numpy\\core\\fromnumeric.py:3464: RuntimeWarning: Mean of empty slice.\n",
      "  return _methods._mean(a, axis=axis, dtype=dtype,\n",
      "C:\\Users\\Арсений\\AppData\\Local\\Programs\\Python\\Python311\\Lib\\site-packages\\numpy\\core\\_methods.py:192: RuntimeWarning: invalid value encountered in scalar divide\n",
      "  ret = ret.dtype.type(ret / rcount)\n"
     ]
    },
    {
     "data": {
      "image/png": "[encoded data removed]",
      "text/plain": [
       "<Figure size 640x480 with 1 Axes>"
      ]
     },
     "metadata": {},
     "output_type": "display_data"
    }
   ],
   "source": [
    "data = raw.get_data()\n",
    "fft_vals = np.absolute(rfft(data))\n",
    "\n",
    "# Get frequencies for amplitudes in Hz\n",
    "fft_freq = rfftfreq(len(data), 1.0/250)\n",
    "\n",
    "# Define EEG bands\n",
    "eeg_bands = {'Delta': (0, 4),\n",
    "             'Theta': (4, 8),\n",
    "             'Alpha': (8, 12),\n",
    "             'Beta': (12, 30),\n",
    "             'Gamma': (30, 45)}\n",
    "\n",
    "# Take the mean of the fft amplitude for each EEG band\n",
    "eeg_band_fft = dict()\n",
    "for band in eeg_bands:  \n",
    "    freq_ix = np.where((fft_freq >= eeg_bands[band][0]) & \n",
    "                       (fft_freq <= eeg_bands[band][1]))[0]\n",
    "    eeg_band_fft[band] = np.mean(fft_vals[freq_ix])\n",
    "\n",
    "# Plot the data (using pandas here cause it's easy)\n",
    "import pandas as pd\n",
    "df = pd.DataFrame(columns=['band', 'val'])\n",
    "df['band'] = eeg_bands.keys()\n",
    "df['val'] = [eeg_band_fft[band] for band in eeg_bands]\n",
    "ax = df.plot.bar(x='band', y='val', legend=False)\n",
    "ax.set_xlabel(\"EEG band\")\n",
    "ax.set_ylabel(\"Mean band Amplitude\")\n",
    "plt.show()"
   ]
  },
  {
   "cell_type": "code",
   "execution_count": 33,
   "id": "930092fc-cb96-4bcc-b9e5-a887641b30eb",
   "metadata": {},
   "outputs": [],
   "source": [
    "from matplotlib import pyplot as plt"
   ]
  },
  {
   "cell_type": "code",
   "execution_count": 31,
   "id": "c70b1088-3ded-40d8-a795-662ea9ed6080",
   "metadata": {},
   "outputs": [
    {
     "data": {
      "text/html": [
       "<div>\n",
       "<style scoped>\n",
       "    .dataframe tbody tr th:only-of-type {\n",
       "        vertical-align: middle;\n",
       "    }\n",
       "\n",
       "    .dataframe tbody tr th {\n",
       "        vertical-align: top;\n",
       "    }\n",
       "\n",
       "    .dataframe thead th {\n",
       "        text-align: right;\n",
       "    }\n",
       "</style>\n",
       "<table border=\"1\" class=\"dataframe\">\n",
       "  <thead>\n",
       "    <tr style=\"text-align: right;\">\n",
       "      <th></th>\n",
       "      <th>band</th>\n",
       "      <th>val</th>\n",
       "    </tr>\n",
       "  </thead>\n",
       "  <tbody>\n",
       "    <tr>\n",
       "      <th>0</th>\n",
       "      <td>Delta</td>\n",
       "      <td>0.000291</td>\n",
       "    </tr>\n",
       "    <tr>\n",
       "      <th>1</th>\n",
       "      <td>Theta</td>\n",
       "      <td>NaN</td>\n",
       "    </tr>\n",
       "    <tr>\n",
       "      <th>2</th>\n",
       "      <td>Alpha</td>\n",
       "      <td>0.000365</td>\n",
       "    </tr>\n",
       "    <tr>\n",
       "      <th>3</th>\n",
       "      <td>Beta</td>\n",
       "      <td>0.000391</td>\n",
       "    </tr>\n",
       "    <tr>\n",
       "      <th>4</th>\n",
       "      <td>Gamma</td>\n",
       "      <td>0.000390</td>\n",
       "    </tr>\n",
       "  </tbody>\n",
       "</table>\n",
       "</div>"
      ],
      "text/plain": [
       "    band       val\n",
       "0  Delta  0.000291\n",
       "1  Theta       NaN\n",
       "2  Alpha  0.000365\n",
       "3   Beta  0.000391\n",
       "4  Gamma  0.000390"
      ]
     },
     "execution_count": 31,
     "metadata": {},
     "output_type": "execute_result"
    }
   ],
   "source": [
    "df"
   ]
  }
 ],
 "metadata": {
  "kernelspec": {
   "display_name": "Python 3 (ipykernel)",
   "language": "python",
   "name": "python3"
  },
  "language_info": {
   "codemirror_mode": {
    "name": "ipython",
    "version": 3
   },
   "file_extension": ".py",
   "mimetype": "text/x-python",
   "name": "python",
   "nbconvert_exporter": "python",
   "pygments_lexer": "ipython3",
   "version": "3.11.1"
  }
 },
 "nbformat": 4,
 "nbformat_minor": 5
}
